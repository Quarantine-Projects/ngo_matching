{
 "cells": [
  {
   "cell_type": "code",
   "execution_count": 1,
   "metadata": {},
   "outputs": [],
   "source": [
    "import pandas as pd\n",
    "import re"
   ]
  },
  {
   "cell_type": "code",
   "execution_count": 2,
   "metadata": {},
   "outputs": [
    {
     "data": {
      "text/html": [
       "<div>\n",
       "<style scoped>\n",
       "    .dataframe tbody tr th:only-of-type {\n",
       "        vertical-align: middle;\n",
       "    }\n",
       "\n",
       "    .dataframe tbody tr th {\n",
       "        vertical-align: top;\n",
       "    }\n",
       "\n",
       "    .dataframe thead th {\n",
       "        text-align: right;\n",
       "    }\n",
       "</style>\n",
       "<table border=\"1\" class=\"dataframe\">\n",
       "  <thead>\n",
       "    <tr style=\"text-align: right;\">\n",
       "      <th></th>\n",
       "      <th>Unnamed: 0</th>\n",
       "      <th>ngo_name</th>\n",
       "      <th>full_address</th>\n",
       "      <th>city</th>\n",
       "      <th>state</th>\n",
       "      <th>contact_1</th>\n",
       "      <th>contact_2</th>\n",
       "      <th>website</th>\n",
       "      <th>mail</th>\n",
       "    </tr>\n",
       "  </thead>\n",
       "  <tbody>\n",
       "    <tr>\n",
       "      <th>0</th>\n",
       "      <td>0</td>\n",
       "      <td>1008 BHAGWAN SHRI MAHAVEER JAIN MINORITY CHARI...</td>\n",
       "      <td>ALAMATTI ROAD MUDDEBIHAL-586212</td>\n",
       "      <td>MUDDEBIHAL</td>\n",
       "      <td>KARNATAKA</td>\n",
       "      <td>Not Available</td>\n",
       "      <td>9972451202</td>\n",
       "      <td>Not Available</td>\n",
       "      <td>mbscollege1008(at)gmail[dot]com</td>\n",
       "    </tr>\n",
       "    <tr>\n",
       "      <th>1</th>\n",
       "      <td>0</td>\n",
       "      <td>A G N FOUNDATION</td>\n",
       "      <td>NO 1445 VAJRAS NO 6 SOUTH END A CROSS 28TH MAI...</td>\n",
       "      <td>BANGALORE</td>\n",
       "      <td>KARNATAKA</td>\n",
       "      <td>Not Available</td>\n",
       "      <td>7989675617</td>\n",
       "      <td>Not Available</td>\n",
       "      <td>agnfoundation333(at)gmail[dot]com</td>\n",
       "    </tr>\n",
       "    <tr>\n",
       "      <th>2</th>\n",
       "      <td>0</td>\n",
       "      <td>A H Memorial Educational trust</td>\n",
       "      <td>CA Site 7P 1A, PRESIDENCY SCHOOL, 2nd A Main, ...</td>\n",
       "      <td>BANGALORE</td>\n",
       "      <td>KARNATAKA</td>\n",
       "      <td>080-46699333</td>\n",
       "      <td>9886700012</td>\n",
       "      <td>http://www.presidencyuniversity.in</td>\n",
       "      <td>nissar(at)presidency[dot]edu.in</td>\n",
       "    </tr>\n",
       "    <tr>\n",
       "      <th>3</th>\n",
       "      <td>0</td>\n",
       "      <td>A Hundred Hands</td>\n",
       "      <td>4 Ashley Road Off MG Road Bangalore 560025</td>\n",
       "      <td>bangalore</td>\n",
       "      <td>KARNATAKA</td>\n",
       "      <td>Not Available</td>\n",
       "      <td>9845008482</td>\n",
       "      <td>http://www.ahundredhands.com</td>\n",
       "      <td>a100hands(at)gmail[dot]com</td>\n",
       "    </tr>\n",
       "    <tr>\n",
       "      <th>4</th>\n",
       "      <td>0</td>\n",
       "      <td>A ONE EDUCATIONAL WELFARE TRUST</td>\n",
       "      <td>No: 117, 6th Main Road, 6th Cross, Near Quba M...</td>\n",
       "      <td>BANGALORE</td>\n",
       "      <td>KARNATAKA</td>\n",
       "      <td>Not Available</td>\n",
       "      <td>9632637803</td>\n",
       "      <td>Not Available</td>\n",
       "      <td>nnaziyara(at)gmail[dot]com</td>\n",
       "    </tr>\n",
       "  </tbody>\n",
       "</table>\n",
       "</div>"
      ],
      "text/plain": [
       "   Unnamed: 0                                           ngo_name  \\\n",
       "0           0  1008 BHAGWAN SHRI MAHAVEER JAIN MINORITY CHARI...   \n",
       "1           0                                   A G N FOUNDATION   \n",
       "2           0                     A H Memorial Educational trust   \n",
       "3           0                                    A Hundred Hands   \n",
       "4           0                    A ONE EDUCATIONAL WELFARE TRUST   \n",
       "\n",
       "                                        full_address        city      state  \\\n",
       "0                    ALAMATTI ROAD MUDDEBIHAL-586212  MUDDEBIHAL  KARNATAKA   \n",
       "1  NO 1445 VAJRAS NO 6 SOUTH END A CROSS 28TH MAI...   BANGALORE  KARNATAKA   \n",
       "2  CA Site 7P 1A, PRESIDENCY SCHOOL, 2nd A Main, ...   BANGALORE  KARNATAKA   \n",
       "3         4 Ashley Road Off MG Road Bangalore 560025   bangalore  KARNATAKA   \n",
       "4  No: 117, 6th Main Road, 6th Cross, Near Quba M...   BANGALORE  KARNATAKA   \n",
       "\n",
       "       contact_1   contact_2                             website  \\\n",
       "0  Not Available  9972451202                       Not Available   \n",
       "1  Not Available  7989675617                       Not Available   \n",
       "2   080-46699333  9886700012  http://www.presidencyuniversity.in   \n",
       "3  Not Available  9845008482        http://www.ahundredhands.com   \n",
       "4  Not Available  9632637803                       Not Available   \n",
       "\n",
       "                                mail  \n",
       "0    mbscollege1008(at)gmail[dot]com  \n",
       "1  agnfoundation333(at)gmail[dot]com  \n",
       "2    nissar(at)presidency[dot]edu.in  \n",
       "3         a100hands(at)gmail[dot]com  \n",
       "4         nnaziyara(at)gmail[dot]com  "
      ]
     },
     "execution_count": 2,
     "metadata": {},
     "output_type": "execute_result"
    }
   ],
   "source": [
    "df = pd.read_csv('raw_karnataka_1_19.csv')\n",
    "df.head()"
   ]
  },
  {
   "cell_type": "code",
   "execution_count": 3,
   "metadata": {
    "scrolled": true
   },
   "outputs": [],
   "source": [
    "df = df.drop(columns=['Unnamed: 0'], axis=1)"
   ]
  },
  {
   "cell_type": "code",
   "execution_count": 4,
   "metadata": {},
   "outputs": [],
   "source": [
    "df['ngo_name'], df['city'], df['state'], df['full_address'] = df['ngo_name'].str.upper(), df['city'].str.upper(), df['state'].str.upper(), df['full_address'].str.upper()"
   ]
  },
  {
   "cell_type": "code",
   "execution_count": 5,
   "metadata": {},
   "outputs": [],
   "source": [
    "df['mail'] = df['mail'].str.replace(\"\\(at\\)\", '@')\n",
    "df['mail'] = df['mail'].str.replace(\"\\[dot\\]\", '.')"
   ]
  },
  {
   "cell_type": "code",
   "execution_count": 6,
   "metadata": {},
   "outputs": [
    {
     "data": {
      "text/plain": [
       "0        True\n",
       "1       False\n",
       "2        True\n",
       "3        True\n",
       "4        True\n",
       "5        True\n",
       "6       False\n",
       "7        True\n",
       "8        True\n",
       "9        True\n",
       "10      False\n",
       "11       True\n",
       "12       True\n",
       "13       True\n",
       "14       True\n",
       "15       True\n",
       "16      False\n",
       "17       True\n",
       "18       True\n",
       "19      False\n",
       "20       True\n",
       "21      False\n",
       "22      False\n",
       "23      False\n",
       "24       True\n",
       "25       True\n",
       "26      False\n",
       "27       True\n",
       "28       True\n",
       "29      False\n",
       "        ...  \n",
       "1795    False\n",
       "1796    False\n",
       "1797    False\n",
       "1798     True\n",
       "1799    False\n",
       "1800     True\n",
       "1801    False\n",
       "1802     True\n",
       "1803     True\n",
       "1804    False\n",
       "1805     True\n",
       "1806    False\n",
       "1807    False\n",
       "1808     True\n",
       "1809     True\n",
       "1810     True\n",
       "1811     True\n",
       "1812     True\n",
       "1813     True\n",
       "1814    False\n",
       "1815    False\n",
       "1816     True\n",
       "1817    False\n",
       "1818     True\n",
       "1819    False\n",
       "1820    False\n",
       "1821    False\n",
       "1822    False\n",
       "1823    False\n",
       "1824    False\n",
       "Name: full_address, Length: 1825, dtype: bool"
      ]
     },
     "execution_count": 6,
     "metadata": {},
     "output_type": "execute_result"
    }
   ],
   "source": [
    "df['full_address'].str.contains(\"[5][0-9]{5}\", regex=True)"
   ]
  },
  {
   "cell_type": "code",
   "execution_count": 7,
   "metadata": {},
   "outputs": [
    {
     "data": {
      "text/plain": [
       "['586212']"
      ]
     },
     "execution_count": 7,
     "metadata": {},
     "output_type": "execute_result"
    }
   ],
   "source": [
    "re.findall(\"[5][0-9]{5}\", \"ALAMATTI ROAD MUDDEBIHAL-586212\")"
   ]
  },
  {
   "cell_type": "code",
   "execution_count": 13,
   "metadata": {},
   "outputs": [],
   "source": [
    "df['pincode'] = 'Not Available'\n",
    "for i, address in enumerate(df['full_address']):\n",
    "    if re.search(\"[5][0-9]{5}\",address):\n",
    "        pin = re.findall(\"[5][0-9]{5}\", address)[0]\n",
    "        df.loc[i,'pincode'] = pin"
   ]
  },
  {
   "cell_type": "code",
   "execution_count": 16,
   "metadata": {},
   "outputs": [],
   "source": [
    "df.to_csv('karnataka_1_19_ngo_darpan_cleaned.csv')"
   ]
  }
 ],
 "metadata": {
  "kernelspec": {
   "display_name": "Python 3",
   "language": "python",
   "name": "python3"
  },
  "language_info": {
   "codemirror_mode": {
    "name": "ipython",
    "version": 3
   },
   "file_extension": ".py",
   "mimetype": "text/x-python",
   "name": "python",
   "nbconvert_exporter": "python",
   "pygments_lexer": "ipython3",
   "version": "3.6.0"
  }
 },
 "nbformat": 4,
 "nbformat_minor": 2
}
